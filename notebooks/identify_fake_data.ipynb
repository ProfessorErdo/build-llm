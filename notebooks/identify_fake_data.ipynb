{
 "cells": [
  {
   "cell_type": "code",
   "execution_count": 235,
   "metadata": {},
   "outputs": [],
   "source": [
    "import pandas as pd \n",
    "import numpy as np \n",
    "\n",
    "import matplotlib.pyplot as plt \n",
    "import seaborn as sns\n",
    "\n",
    "from tqdm import tqdm\n",
    "\n",
    "pd.set_option('display.max_rows', 500)"
   ]
  },
  {
   "cell_type": "code",
   "execution_count": 256,
   "metadata": {},
   "outputs": [
    {
     "name": "stdout",
     "output_type": "stream",
     "text": [
      "(4116, 12)\n"
     ]
    },
    {
     "data": {
      "text/html": [
       "<div>\n",
       "<style scoped>\n",
       "    .dataframe tbody tr th:only-of-type {\n",
       "        vertical-align: middle;\n",
       "    }\n",
       "\n",
       "    .dataframe tbody tr th {\n",
       "        vertical-align: top;\n",
       "    }\n",
       "\n",
       "    .dataframe thead th {\n",
       "        text-align: right;\n",
       "    }\n",
       "</style>\n",
       "<table border=\"1\" class=\"dataframe\">\n",
       "  <thead>\n",
       "    <tr style=\"text-align: right;\">\n",
       "      <th></th>\n",
       "      <th>test_id</th>\n",
       "      <th>sample_id</th>\n",
       "      <th>li</th>\n",
       "      <th>be</th>\n",
       "      <th>nb</th>\n",
       "      <th>ta</th>\n",
       "      <th>rb</th>\n",
       "      <th>cs</th>\n",
       "      <th>w</th>\n",
       "      <th>bi</th>\n",
       "      <th>mo</th>\n",
       "      <th>sn</th>\n",
       "    </tr>\n",
       "  </thead>\n",
       "  <tbody>\n",
       "    <tr>\n",
       "      <th>0</th>\n",
       "      <td>241810001</td>\n",
       "      <td>T01-01</td>\n",
       "      <td>90.833919</td>\n",
       "      <td>6.020064</td>\n",
       "      <td>12.937237</td>\n",
       "      <td>1.815527</td>\n",
       "      <td>162.849654</td>\n",
       "      <td>18.378212</td>\n",
       "      <td>4.631767</td>\n",
       "      <td>0.397267</td>\n",
       "      <td>1.781480</td>\n",
       "      <td>3.571594</td>\n",
       "    </tr>\n",
       "    <tr>\n",
       "      <th>1</th>\n",
       "      <td>241810002</td>\n",
       "      <td>T01-02</td>\n",
       "      <td>127.633179</td>\n",
       "      <td>2.942495</td>\n",
       "      <td>10.297203</td>\n",
       "      <td>1.211617</td>\n",
       "      <td>156.362156</td>\n",
       "      <td>40.746861</td>\n",
       "      <td>1.720836</td>\n",
       "      <td>0.415387</td>\n",
       "      <td>1.195794</td>\n",
       "      <td>2.528272</td>\n",
       "    </tr>\n",
       "    <tr>\n",
       "      <th>2</th>\n",
       "      <td>241810003</td>\n",
       "      <td>T01-03</td>\n",
       "      <td>154.726568</td>\n",
       "      <td>4.625141</td>\n",
       "      <td>10.955438</td>\n",
       "      <td>1.251676</td>\n",
       "      <td>159.181327</td>\n",
       "      <td>43.137307</td>\n",
       "      <td>7.263035</td>\n",
       "      <td>0.401448</td>\n",
       "      <td>1.091368</td>\n",
       "      <td>4.156266</td>\n",
       "    </tr>\n",
       "    <tr>\n",
       "      <th>3</th>\n",
       "      <td>241810004</td>\n",
       "      <td>T01-04</td>\n",
       "      <td>90.041636</td>\n",
       "      <td>2.282445</td>\n",
       "      <td>8.767717</td>\n",
       "      <td>0.885393</td>\n",
       "      <td>144.621996</td>\n",
       "      <td>29.988116</td>\n",
       "      <td>2.237632</td>\n",
       "      <td>0.423005</td>\n",
       "      <td>1.407746</td>\n",
       "      <td>3.760484</td>\n",
       "    </tr>\n",
       "    <tr>\n",
       "      <th>4</th>\n",
       "      <td>241810005</td>\n",
       "      <td>T01-05</td>\n",
       "      <td>67.564637</td>\n",
       "      <td>1.789445</td>\n",
       "      <td>8.592548</td>\n",
       "      <td>1.026509</td>\n",
       "      <td>92.556313</td>\n",
       "      <td>15.632865</td>\n",
       "      <td>2.381405</td>\n",
       "      <td>0.262889</td>\n",
       "      <td>1.026018</td>\n",
       "      <td>2.396971</td>\n",
       "    </tr>\n",
       "  </tbody>\n",
       "</table>\n",
       "</div>"
      ],
      "text/plain": [
       "     test_id sample_id          li        be         nb        ta          rb  \\\n",
       "0  241810001    T01-01   90.833919  6.020064  12.937237  1.815527  162.849654   \n",
       "1  241810002    T01-02  127.633179  2.942495  10.297203  1.211617  156.362156   \n",
       "2  241810003    T01-03  154.726568  4.625141  10.955438  1.251676  159.181327   \n",
       "3  241810004    T01-04   90.041636  2.282445   8.767717  0.885393  144.621996   \n",
       "4  241810005    T01-05   67.564637  1.789445   8.592548  1.026509   92.556313   \n",
       "\n",
       "          cs         w        bi        mo        sn  \n",
       "0  18.378212  4.631767  0.397267  1.781480  3.571594  \n",
       "1  40.746861  1.720836  0.415387  1.195794  2.528272  \n",
       "2  43.137307  7.263035  0.401448  1.091368  4.156266  \n",
       "3  29.988116  2.237632  0.423005  1.407746  3.760484  \n",
       "4  15.632865  2.381405  0.262889  1.026018  2.396971  "
      ]
     },
     "execution_count": 256,
     "metadata": {},
     "output_type": "execute_result"
    }
   ],
   "source": [
    "def load_data(url): \n",
    "    df = pd.read_excel(url)\n",
    "    # renames \n",
    "    df.columns = ['test_id', 'sample_id', 'li', 'be', 'nb', 'ta', 'rb', 'cs', 'w', 'bi', 'mo', 'sn']\n",
    "    \n",
    "    return df\n",
    "\n",
    "df = load_data('../data/data.xls')\n",
    "print(df.shape)\n",
    "df.head()"
   ]
  },
  {
   "cell_type": "code",
   "execution_count": 261,
   "metadata": {},
   "outputs": [
    {
     "name": "stdout",
     "output_type": "stream",
     "text": [
      "(206, 5)\n"
     ]
    },
    {
     "data": {
      "text/html": [
       "<div>\n",
       "<style scoped>\n",
       "    .dataframe tbody tr th:only-of-type {\n",
       "        vertical-align: middle;\n",
       "    }\n",
       "\n",
       "    .dataframe tbody tr th {\n",
       "        vertical-align: top;\n",
       "    }\n",
       "\n",
       "    .dataframe thead th {\n",
       "        text-align: right;\n",
       "    }\n",
       "</style>\n",
       "<table border=\"1\" class=\"dataframe\">\n",
       "  <thead>\n",
       "    <tr style=\"text-align: right;\">\n",
       "      <th></th>\n",
       "      <th>index</th>\n",
       "      <th>ta</th>\n",
       "      <th>ta_counts</th>\n",
       "      <th>ta_1000</th>\n",
       "      <th>ta_10</th>\n",
       "    </tr>\n",
       "  </thead>\n",
       "  <tbody>\n",
       "    <tr>\n",
       "      <th>0</th>\n",
       "      <td>814</td>\n",
       "      <td>2.619584</td>\n",
       "      <td>2</td>\n",
       "      <td>2619.584193</td>\n",
       "      <td>9.584193</td>\n",
       "    </tr>\n",
       "    <tr>\n",
       "      <th>1</th>\n",
       "      <td>816</td>\n",
       "      <td>1.049977</td>\n",
       "      <td>2</td>\n",
       "      <td>1049.977168</td>\n",
       "      <td>9.977168</td>\n",
       "    </tr>\n",
       "    <tr>\n",
       "      <th>2</th>\n",
       "      <td>817</td>\n",
       "      <td>2.382405</td>\n",
       "      <td>2</td>\n",
       "      <td>2382.404643</td>\n",
       "      <td>2.404643</td>\n",
       "    </tr>\n",
       "    <tr>\n",
       "      <th>3</th>\n",
       "      <td>818</td>\n",
       "      <td>1.091602</td>\n",
       "      <td>2</td>\n",
       "      <td>1091.602116</td>\n",
       "      <td>1.602116</td>\n",
       "    </tr>\n",
       "    <tr>\n",
       "      <th>4</th>\n",
       "      <td>819</td>\n",
       "      <td>0.897486</td>\n",
       "      <td>2</td>\n",
       "      <td>897.485775</td>\n",
       "      <td>7.485775</td>\n",
       "    </tr>\n",
       "  </tbody>\n",
       "</table>\n",
       "</div>"
      ],
      "text/plain": [
       "   index        ta  ta_counts      ta_1000     ta_10\n",
       "0    814  2.619584          2  2619.584193  9.584193\n",
       "1    816  1.049977          2  1049.977168  9.977168\n",
       "2    817  2.382405          2  2382.404643  2.404643\n",
       "3    818  1.091602          2  1091.602116  1.602116\n",
       "4    819  0.897486          2   897.485775  7.485775"
      ]
     },
     "execution_count": 261,
     "metadata": {},
     "output_type": "execute_result"
    }
   ],
   "source": [
    "def find_duplicated_rows(df, col): \n",
    "    counts_df = pd.DataFrame(df[col].value_counts())\n",
    "    counts_df = counts_df.reset_index() \n",
    "    counts_df.columns = [col, f'{col}_counts']\n",
    "    \n",
    "    df = pd.merge(df, counts_df, on=col, how='left', validate='m:1')\n",
    "    \n",
    "    # remove the none duplicated rows\n",
    "    dup_df = df.query(f'{col}_counts > 1')[[col, f'{col}_counts']]\n",
    "    # reset the index and add by 2 to compensate the headers and starting from 0\n",
    "    dup_df = dup_df.reset_index() \n",
    "    dup_df['index'] = dup_df['index'] + 2 \n",
    "    \n",
    "    # remove the duplicated rows with low precision\n",
    "    # low precision rows can be divided by 10 without reset parts\n",
    "    dup_df[f'{col}_1000'] = dup_df[col] * 1000\n",
    "    dup_df[f'{col}_10'] = dup_df[f'{col}_1000'] % 10\n",
    "    dup_df = dup_df.query(f'{col}_10 != 0')\n",
    "    dup_df = dup_df.reset_index(drop=True)\n",
    "    \n",
    "    return dup_df \n",
    "\n",
    "dup_df = find_duplicated_rows(df, 'ta')\n",
    "print(dup_df.shape)\n",
    "dup_df.head()"
   ]
  },
  {
   "cell_type": "code",
   "execution_count": 285,
   "metadata": {},
   "outputs": [],
   "source": [
    "def find_duplicated_sequences(df, length, col):\n",
    "    # Create a dictionary to store sequences and their indices\n",
    "    sequences = {}\n",
    "    \n",
    "    # Iterate through the DataFrame to find sequences\n",
    "    for start in range(len(df)):\n",
    "        seq = tuple(df[col][start:start + length])\n",
    "        if seq in sequences:\n",
    "            sequences[seq].append(start)\n",
    "        else:\n",
    "            sequences[seq] = [start]\n",
    "    \n",
    "    # Find duplicates\n",
    "    duplicates = {seq: indices for seq, indices in sequences.items() if len(indices) > 1}\n",
    "    \n",
    "    return duplicates"
   ]
  },
  {
   "cell_type": "code",
   "execution_count": 286,
   "metadata": {},
   "outputs": [
    {
     "name": "stdout",
     "output_type": "stream",
     "text": [
      "(0, 5)\n"
     ]
    }
   ],
   "source": [
    "dup_df = find_duplicated_rows(df, 'li')\n",
    "print(dup_df.shape)"
   ]
  },
  {
   "cell_type": "code",
   "execution_count": 299,
   "metadata": {},
   "outputs": [
    {
     "name": "stdout",
     "output_type": "stream",
     "text": [
      "----------li----------\n",
      "There is no duplicated rows in column li.\n",
      "----------be----------\n"
     ]
    },
    {
     "name": "stderr",
     "output_type": "stream",
     "text": [
      "100%|██████████| 11/11 [00:00<00:00, 4038.28it/s]"
     ]
    },
    {
     "name": "stderr",
     "output_type": "stream",
     "text": [
      "\n"
     ]
    },
    {
     "name": "stdout",
     "output_type": "stream",
     "text": [
      "2: 2\n",
      "----------nb----------\n"
     ]
    },
    {
     "name": "stderr",
     "output_type": "stream",
     "text": [
      "100%|██████████| 6/6 [00:00<00:00, 4640.57it/s]\n"
     ]
    },
    {
     "name": "stdout",
     "output_type": "stream",
     "text": [
      "2\n",
      "Indices: [0, 6], Sequence: (13.600000000000001, 16.1)\n",
      "rows from 3851.0 to 3920.0\n",
      "rows from 4061.0 to 4106.0\n",
      "----------ta----------\n"
     ]
    },
    {
     "name": "stderr",
     "output_type": "stream",
     "text": [
      " 14%|█▍        | 29/204 [00:00<00:00, 280.68it/s]"
     ]
    },
    {
     "name": "stdout",
     "output_type": "stream",
     "text": [
      "99: 2\n",
      "97: 3\n",
      "95: 4\n",
      "93: 5\n",
      "91: 6\n",
      "89: 7\n",
      "87: 8\n",
      "85: 9\n",
      "83: 10\n",
      "81: 11\n",
      "79: 12\n",
      "77: 13\n",
      "75: 14\n",
      "73: 15\n",
      "71: 16\n",
      "69: 17\n",
      "67: 18\n",
      "65: 19\n",
      "63: 20\n",
      "61: 21\n",
      "59: 22\n",
      "57: 23\n",
      "55: 24\n",
      "53: 25\n",
      "51: 26\n",
      "49: 27\n",
      "47: 28\n",
      "45: 29\n",
      "43: 30\n",
      "41: 31\n",
      "39: 32\n",
      "37: 33\n",
      "35: 34\n",
      "33: 35\n",
      "31: 36\n",
      "29: 37\n",
      "28: 38\n",
      "27: 39\n",
      "26: 40\n",
      "25: 41\n",
      "24: 42\n",
      "23: 43\n",
      "22: 44\n",
      "21: 45\n",
      "20: 46\n",
      "19: 47\n",
      "18: 48\n",
      "17: 49\n",
      "16: 50\n",
      "15: 51\n",
      "14: 52\n",
      "13: 53\n",
      "12: 54\n",
      "11: 55\n",
      "10: 56\n",
      "9: 57\n",
      "8: 58\n"
     ]
    },
    {
     "name": "stderr",
     "output_type": "stream",
     "text": [
      " 28%|██▊       | 58/204 [00:00<00:00, 235.10it/s]"
     ]
    },
    {
     "name": "stdout",
     "output_type": "stream",
     "text": [
      "7: 59\n",
      "6: 60\n",
      "5: 61\n",
      "4: 62\n",
      "3: 63\n",
      "2: 64\n",
      "65\n",
      "Indices: [72, 137], Sequence: (3.0839533210514, 1.51202952487442, 1.05977396365137, 1.63215838312794, 1.44027777378715, 1.13542488173644, 1.34524718461709, 0.88213115226718, 1.81639136236201, 0.98948822559561, 1.09814093759571, 1.21131544348439, 1.51008904806222, 1.19376050215281, 1.23902890826572, 1.29205723884534, 1.01738137379662, 1.11379454156314, 1.23284937876264, 1.1608986108462, 0.90551081066455, 1.09734150746062, 1.46088816314896, 1.29759057444415, 1.31174356683923, 1.2697557260342, 1.20392339479496, 1.89625094345814, 1.48400731766455, 1.27178361556421, 0.95310676194869, 1.04219156324675, 1.48570852399217, 1.27728899771763, 1.18659917411142, 1.53025972469471, 1.42205475812422, 1.35846934285908, 0.95684862081302, 0.94304773886545, 1.10186379297263, 1.18058221818768, 1.03583877453916, 0.61929124574294, 0.84264227318261, 1.25064847531515, 0.81541006244626, 1.56336570743171, 1.51220773813024, 1.01452444858739, 1.64422729426046, 1.26863028821382, 1.01001549080942, 1.33729539549001, 1.980358052284546, 2.13787374688936, 1.6391441525734, 2.88455455833652, 3.5376878988232, 2.71006575658324, 2.15332878645536, 2.22544532396644, 2.21447027556762, 1.86600752908645, 1.6818653658074)\n",
      "rows from 1247.0 to 1311.0\n",
      "rows from 1312.0 to 1379.0\n"
     ]
    },
    {
     "name": "stderr",
     "output_type": "stream",
     "text": [
      "100%|██████████| 204/204 [00:00<00:00, 234.24it/s]\n"
     ]
    },
    {
     "name": "stdout",
     "output_type": "stream",
     "text": [
      "----------rb----------\n"
     ]
    },
    {
     "name": "stderr",
     "output_type": "stream",
     "text": [
      "0it [00:00, ?it/s]\n"
     ]
    },
    {
     "name": "stdout",
     "output_type": "stream",
     "text": [
      "----------cs----------\n"
     ]
    },
    {
     "name": "stderr",
     "output_type": "stream",
     "text": [
      "0it [00:00, ?it/s]\n"
     ]
    },
    {
     "name": "stdout",
     "output_type": "stream",
     "text": [
      "----------w----------\n"
     ]
    },
    {
     "name": "stderr",
     "output_type": "stream",
     "text": [
      "100%|██████████| 2/2 [00:00<00:00, 2314.74it/s]\n"
     ]
    },
    {
     "name": "stdout",
     "output_type": "stream",
     "text": [
      "2\n",
      "Indices: [0, 1, 2], Sequence: (2.01, 2.01)\n",
      "rows from 3857.0 to 3945.0\n",
      "rows from 3945.0 to 3963.0\n",
      "3\n",
      "Indices: [0, 1], Sequence: (2.01, 2.01, 2.01)\n",
      "rows from 3857.0 to 3963.0\n",
      "rows from 3945.0 to 4019.0\n",
      "----------bi----------\n"
     ]
    },
    {
     "name": "stderr",
     "output_type": "stream",
     "text": [
      "100%|██████████| 3/3 [00:00<00:00, 5405.03it/s]\n"
     ]
    },
    {
     "name": "stdout",
     "output_type": "stream",
     "text": [
      "----------mo----------\n"
     ]
    },
    {
     "name": "stderr",
     "output_type": "stream",
     "text": [
      "100%|██████████| 6/6 [00:00<00:00, 5886.74it/s]\n"
     ]
    },
    {
     "name": "stdout",
     "output_type": "stream",
     "text": [
      "----------sn----------\n"
     ]
    },
    {
     "name": "stderr",
     "output_type": "stream",
     "text": [
      "100%|██████████| 5/5 [00:00<00:00, 5301.19it/s]\n"
     ]
    }
   ],
   "source": [
    "cols = df.columns[2:]\n",
    "for col in cols: \n",
    "    print(f'----------{col}----------')\n",
    "    dup_df = find_duplicated_rows(df, col)\n",
    "    duplicated_sequences = []\n",
    "    length = 0\n",
    "    if dup_df.shape[0] > 0: \n",
    "        # Find and print duplicated sequences\n",
    "        for length_tmp in tqdm(range(2, len(dup_df))): \n",
    "            duplicated_sequences_temp = find_duplicated_sequences(dup_df, length_tmp, col)\n",
    "            if len(duplicated_sequences_temp) == 1: \n",
    "                duplicated_sequences = duplicated_sequences_temp\n",
    "                length = length_tmp\n",
    "                for seq, indices in duplicated_sequences.items():\n",
    "                    print(f'{length:}')\n",
    "                    print(f\"Indices: {indices}, Sequence: {seq}\")\n",
    "                    idx1, idx2, *_ = indices \n",
    "                    starting_rows1 = dup_df.iloc[idx1, :]['index']\n",
    "                    starting_rows2 = dup_df.iloc[idx2, :]['index']\n",
    "                    # ending_rows1 = starting_rows1 + length - 1\n",
    "                    # ending_rows2 = starting_rows2 + length - 1\n",
    "                    ending_rows1 = dup_df.iloc[idx1+length-1, :]['index']\n",
    "                    ending_rows2 = dup_df.iloc[idx2+length-1, :]['index']\n",
    "                    print(f'rows from {starting_rows1} to {ending_rows1}')\n",
    "                    print(f'rows from {starting_rows2} to {ending_rows2}')\n",
    "            elif len(duplicated_sequences_temp) > 1: \n",
    "                print(f'{len(duplicated_sequences_temp)}: {length_tmp}')         \n",
    "    else: \n",
    "        print(f'There is no duplicated rows in column {col}.')"
   ]
  },
  {
   "cell_type": "code",
   "execution_count": null,
   "metadata": {},
   "outputs": [],
   "source": []
  }
 ],
 "metadata": {
  "kernelspec": {
   "display_name": "pytorch",
   "language": "python",
   "name": "pytorch"
  },
  "language_info": {
   "codemirror_mode": {
    "name": "ipython",
    "version": 3
   },
   "file_extension": ".py",
   "mimetype": "text/x-python",
   "name": "python",
   "nbconvert_exporter": "python",
   "pygments_lexer": "ipython3",
   "version": "3.10.13"
  }
 },
 "nbformat": 4,
 "nbformat_minor": 2
}
